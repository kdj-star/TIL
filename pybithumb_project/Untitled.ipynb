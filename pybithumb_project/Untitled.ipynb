{
 "cells": [
  {
   "cell_type": "code",
   "execution_count": 1,
   "id": "4e7378cd-5030-4a37-af87-46582da5e0f8",
   "metadata": {},
   "outputs": [
    {
     "name": "stdout",
     "output_type": "stream",
     "text": [
      "{'market': 'KRW-SXP', 'trade_date': '20250101', 'trade_time': '030355', 'trade_date_kst': '20250101', 'trade_time_kst': '120355', 'trade_timestamp': 1735733035111, 'opening_price': 495, 'high_price': 508, 'low_price': 477, 'trade_price': 481, 'prev_closing_price': 496, 'change': 'FALL', 'change_price': 15, 'change_rate': 0.0302, 'signed_change_price': -15, 'signed_change_rate': -0.0302, 'trade_volume': 107.48648648, 'acc_trade_price': 3739366602.24798, 'acc_trade_price_24h': 13864116317.17894, 'acc_trade_volume': 7620598.530367585, 'acc_trade_volume_24h': 27157119.010261852, 'highest_52_week_price': 801, 'highest_52_week_date': '2024-03-13', 'lowest_52_week_price': 220, 'lowest_52_week_date': '2024-08-06', 'timestamp': 1735700746809}\n",
      "495\n",
      "508\n",
      "477\n",
      "477\n"
     ]
    }
   ],
   "source": [
    "import requests\n",
    "def currency_info(name):\n",
    "    _name=name.upper()\n",
    "    url = \"https://api.bithumb.com/v1/ticker?markets=KRW-\"+_name\n",
    "    \n",
    "    headers = {\"accept\": \"application/json\"}\n",
    "    \n",
    "    response = requests.get(url, headers=headers)\n",
    "    \n",
    "    return response.json()[0]\n",
    "ticker = 'sxp'\n",
    "print(currency_info('sxp'))\n",
    "print(currency_info(ticker)['opening_price'])\n",
    "print(currency_info(ticker)['high_price'])\n",
    "print(currency_info(ticker)['low_price'])\n",
    "print(currency_info(ticker)['low_price'])\n"
   ]
  },
  {
   "cell_type": "code",
   "execution_count": 16,
   "id": "fb72d414-37c6-47a7-bc4e-0cb2c1ad6827",
   "metadata": {},
   "outputs": [
    {
     "name": "stdout",
     "output_type": "stream",
     "text": [
      "\"market\":\"KRW-SXP\",\"trade_date\":\"20241231\",\"trade_time\":\"230825\",\"trade_date_kst\":\"20250101\",\"trade_time_kst\":\"080825\",\"trade_timestamp\":1735718905800,\"opening_price\":495,\"high_price\":495,\"low_price\":483,\"trade_price\":487,\"prev_closing_price\":496,\"change\":\"FALL\",\"change_price\":9,\"change_rate\":0.0181,\"signed_change_price\":-9,\"signed_change_rate\":-0.0181,\"trade_volume\":12.3508,\"acc_trade_price\":1204380399.838082644574894052,\"acc_trade_price_24h\":29042171949.192714458688500077,\"acc_trade_volume\":2458986.476296600968216899,\"acc_trade_volume_24h\":54122647.31077573683851724,\"highest_52_week_price\":801,\"highest_52_week_date\":\"2024-03-13\",\"lowest_52_week_price\":220,\"lowest_52_week_date\":\"2024-08-06\",\"timestamp\":1735686528178\n"
     ]
    }
   ],
   "source": [
    "import requests\n",
    "def currency_info(name):\n",
    "    _name=name.upper()\n",
    "    url = \"https://api.bithumb.com/v1/ticker?markets=KRW-\"+_name\n",
    "    \n",
    "    headers = {\"accept\": \"application/json\"}\n",
    "    \n",
    "    response = requests.get(url, headers=headers)\n",
    "    \n",
    "    \n",
    "   return response.text\n"
   ]
  },
  {
   "cell_type": "code",
   "execution_count": null,
   "id": "8fda6412-ae69-4ad8-874a-7f60473a2bdb",
   "metadata": {},
   "outputs": [],
   "source": [
    "from bs4 import BeautifulSoup\n",
    "import requests\n",
    "\n",
    "# 웹 페이지 가져오기\n",
    "url = 'https://www.bithumb.com/react/trade/order/SXP-KRW'\n",
    "response = requests.get(url)\n",
    "html = response.text\n",
    "\n",
    "# BeautifulSoup 객체 생성\n",
    "soup = BeautifulSoup(html, 'html.parser')\n",
    "\n",
    "# 특정 태그에서 데이터 추출\n",
    "title = soup.title.text\n",
    "print(\"웹 페이지 제목:\", title)\n",
    "\n",
    "# 클래스 이름을 기반으로 요소 선택\n",
    "articles = soup.find_all('dd', class_='InfoHead_info-head-info__rate-down__Es1ov')\n",
    "for article in articles:\n",
    "    print(article.text)\n"
   ]
  },
  {
   "cell_type": "code",
   "execution_count": 1,
   "id": "bc403ccd-0b27-4032-9990-e27ca13949b9",
   "metadata": {},
   "outputs": [
    {
     "name": "stdout",
     "output_type": "stream",
     "text": [
      "46\n",
      "84\n",
      "none\n"
     ]
    }
   ],
   "source": [
    "import uuid\n",
    "import time\n",
    "import jwt \n",
    "f = open(\"D:/_key.txt\", 'r')\n",
    "lines = f.readlines()\n",
    "\n",
    "accessKey = lines[0].split('\\n')[0]\n",
    "print(len(accessKey))\n",
    "secretKey = lines[1].split('\\n')[0]\n",
    "print(len(secretKey))\n",
    "\n",
    "def get_info(name):\n",
    "\n",
    "    # Generate access token\n",
    "    payload = {\n",
    "        'access_key': accessKey,\n",
    "        'nonce': str(uuid.uuid4()),\n",
    "        'timestamp': round(time.time() * 1000)\n",
    "    }\n",
    "    jwt_token = jwt.encode(payload, secretKey)\n",
    "    authorization_token = 'Bearer {}'.format(jwt_token)\n",
    "    headers = {\n",
    "      'Authorization': authorization_token\n",
    "    }\n",
    "    \n",
    "    try:\n",
    "        # Call API\n",
    "        response = requests.get(apiUrl + '/v1/accounts', headers=headers)\n",
    "        # handle to success or fail\n",
    "        tmp = response.json()\n",
    "    \n",
    "        for t in tmp:\n",
    "            if _name == t['currency']:\n",
    "                print(t)\n",
    "                return t\n",
    "        \n",
    "    except Exception as err:\n",
    "        # handle exception\n",
    "        return 'none'\n",
    "\n",
    "\n",
    "\n",
    "print(get_info('RON'))\n"
   ]
  },
  {
   "cell_type": "code",
   "execution_count": null,
   "id": "2ea085e0-2d70-4158-9e01-22edbd5706d6",
   "metadata": {},
   "outputs": [],
   "source": [
    "import requests\n",
    "from urllib.request import urlopen\n",
    "from bs4 import BeautifulSoup\n",
    "a = requests.get('https://www.bithumb.com/react/trade/order/HIVE-KRW')\n",
    "# a를 호출해 html을 parser\n",
    "#print(a.text)\n"
   ]
  },
  {
   "cell_type": "code",
   "execution_count": 3,
   "id": "89e1c8ef-f6b4-4235-a648-0bcefa262f86",
   "metadata": {},
   "outputs": [
    {
     "name": "stdout",
     "output_type": "stream",
     "text": [
      "<!DOCTYPE html>\n",
      "<html lang=\"en\" class=\"no-js\">\n",
      "<head>\n",
      "<meta charset=\"utf-8\">\n",
      "<title>Wikipedia</title>\n",
      "<meta name=\"description\" content=\"Wikipedia is a free online encyclopedia, created and edited by volunteers around the world and hosted by the Wikimedia Foundation.\">\n",
      "<script>\n",
      "document.documentElement.className = document.documentElement.className.replace( /(^|\\s)no-js(\\s|$)/, \"$1js-enabled$2\" );\n",
      "</script>\n",
      "<meta name=\"viewport\" content=\"initial-scale=1,user-scalable=yes\">\n",
      "<link rel=\"apple-touch-icon\" href=\"/static/apple-touch/wikipedia.png\">\n",
      "<link rel=\"shortcut icon\" href=\"/static/favicon/wikipedia.ico\">\n",
      "<link rel=\"license\" href=\"//creativecommons.org/licenses/by-sa/4.0/\">\n",
      "<style>\n",
      ".sprite{background-image:linear-gradient(transparent,transparent),url(portal/wikipedia.org/assets/img/sprite-de847d1a.svg);background-repeat:no-repeat;display:inline-block;vertical-align:middle}.svg-Commons-logo_sister{background-position:0 0;width:47px;height:47px}.svg-MediaWiki-logo_sister{background-positi\n"
     ]
    }
   ],
   "source": [
    "import requests\n",
    "\n",
    "url = \"https://www.wikipedia.org/\"\n",
    "resp = requests.get(url)\n",
    "\n",
    "html = resp.text\n",
    "print(html[:1000])"
   ]
  },
  {
   "cell_type": "code",
   "execution_count": null,
   "id": "fe25b7ec-d0f1-4610-89de-a03156a18c68",
   "metadata": {},
   "outputs": [],
   "source": []
  }
 ],
 "metadata": {
  "kernelspec": {
   "display_name": "Python 3 (ipykernel)",
   "language": "python",
   "name": "python3"
  },
  "language_info": {
   "codemirror_mode": {
    "name": "ipython",
    "version": 3
   },
   "file_extension": ".py",
   "mimetype": "text/x-python",
   "name": "python",
   "nbconvert_exporter": "python",
   "pygments_lexer": "ipython3",
   "version": "3.12.7"
  }
 },
 "nbformat": 4,
 "nbformat_minor": 5
}
